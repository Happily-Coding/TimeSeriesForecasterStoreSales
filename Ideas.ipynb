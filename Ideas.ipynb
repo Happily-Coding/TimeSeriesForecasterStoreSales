{
 "cells": [
  {
   "cell_type": "markdown",
   "metadata": {},
   "source": [
    "## Graph variable case counts as a tree graph\n",
    "\n",
    "- Display algun branch graph de transaction_data.value_counts() ? Un decompostion tree\n",
    "- No parece haber en seaborn\n",
    "- Parece ser posible pero dificil en plotly\n",
    "    - https://community.plotly.com/t/decision-tree-plot-plot-tree/68403/6\n",
    "    - https://plotly.com/python/tree-plots/\n",
    "    - Un treemap es mas feucho pero tambien puede funcionar: https://plotly.com/python/treemaps/\n",
    "- See this for graphing plot grids"
   ]
  },
  {
   "cell_type": "markdown",
   "metadata": {},
   "source": [
    "## Show dfs as interactive bokeh elements"
   ]
  },
  {
   "cell_type": "code",
   "execution_count": null,
   "metadata": {
    "vscode": {
     "languageId": "plaintext"
    }
   },
   "outputs": [],
   "source": [
    "#from bokeh.models import ColumnDataSource, DataTable, DateFormatter, TableColumn\n",
    "#data_table = DataTable(\n",
    "#    columns=[TableColumn(field=Ci, title=Ci) for Ci in example_df.columns],\n",
    "#    source=ColumnDataSource(example_df),\n",
    "#    height=300,\n",
    "#)\n",
    "#show(data_table)\n"
   ]
  },
  {
   "cell_type": "markdown",
   "metadata": {
    "vscode": {
     "languageId": "plaintext"
    }
   },
   "source": [
    "## Select dfs using a panel selector"
   ]
  },
  {
   "cell_type": "code",
   "execution_count": null,
   "metadata": {
    "vscode": {
     "languageId": "plaintext"
    }
   },
   "outputs": [],
   "source": [
    "df_dict = {'daily_sales_data':daily_sales_data,\n",
    "            'stores_df':stores_df,\n",
    "            'oil_df':oil_df,\n",
    "            'transactions_df':transactions_df,\n",
    "            'special_days_df':special_days_df,\n",
    "            'None':'',\n",
    "            }\n",
    "plot_reference_line_selector = pn.widgets.Select(name='df_to_use', options=list(df_dict.keys()))\n",
    "\n",
    "@pn.depends(plot_reference_line_selector.param.value)\n",
    "def show_graph_based_on_selection(selector_value):\n",
    "    return pn.widgets.DataFrame(df_dict[selector_value].head(5)) \n",
    "\n",
    "layout = pn.Column(plot_reference_line_selector, show_graph_based_on_selection)\n",
    "\n",
    "display(layout)"
   ]
  },
  {
   "cell_type": "markdown",
   "metadata": {
    "vscode": {
     "languageId": "plaintext"
    }
   },
   "source": [
    "## Modify date to be treated as a numerical feature"
   ]
  },
  {
   "cell_type": "markdown",
   "metadata": {},
   "source": [
    "## Create a feature store to handle features that have no easy/efficient way to exist at db."
   ]
  },
  {
   "cell_type": "code",
   "execution_count": null,
   "metadata": {
    "vscode": {
     "languageId": "plaintext"
    }
   },
   "outputs": [],
   "source": [
    "Some features make no sense to store or are impossible to store as they are.\n",
    "\n",
    "The key example is vectorized features, which are required/used by some pyspark transformers.\n",
    "    right now probably makes no sense to store them .\n",
    "         possible exception is if we need to join two existing tables and then manipulate them.\n",
    "         It'd be important to store them if we didnt regenerate features on each update.\n",
    "    Lag features would be a key example if it werent because window/agg features need to be reprocessed.\n",
    "\n",
    "TO ALLOW OBTAINING FEATURES CREATE A FEATURE STORE.\n",
    "It should have/create a pyspark dataframe for each feature name\n",
    "It could be as simple as having a withcolumn method for each feature thats not actually stored, and a method to access all the other ones from the database. "
   ]
  },
  {
   "cell_type": "markdown",
   "metadata": {
    "vscode": {
     "languageId": "plaintext"
    }
   },
   "source": [
    "# High priority:\n",
    "Find the most important categories for each variable (avg of 1 vs avg of all the rest difference)\n",
    "Aggregate by variable, add a column difference to others, in the df ordered by that category find the highest rank.\n",
    "Mark the most important categories for each variable inside their graph with a color and possibly a label.\n",
    "Add the difference between that category and the rest inside the references.\n",
    "Find the most important categories in general()"
   ]
  },
  {
   "cell_type": "code",
   "execution_count": null,
   "metadata": {
    "vscode": {
     "languageId": "plaintext"
    }
   },
   "outputs": [],
   "source": [
    "Discarded: create a proportion of the month feature? Would it be meaningless? would it help to evaluate variying days of end?\n",
    "I'd argue its likely not a very useful feature if you have one that marks day of end."
   ]
  },
  {
   "cell_type": "code",
   "execution_count": null,
   "metadata": {
    "vscode": {
     "languageId": "plaintext"
    }
   },
   "outputs": [],
   "source": [
    "Discarded: Mark 15th day of month as feature. Its fully redundant with day of month.\n",
    "#daily_sales_data['is_day_of_sales_15th_of_month'] = (daily_sales_data.date_of_sales.dt.day == 15).astype(int)"
   ]
  }
 ],
 "metadata": {
  "language_info": {
   "name": "python"
  }
 },
 "nbformat": 4,
 "nbformat_minor": 2
}
