{
 "cells": [
  {
   "cell_type": "code",
   "execution_count": null,
   "metadata": {},
   "outputs": [],
   "source": [
    "# Connect to the database created and create a table\n",
    "connection:psycopg.Connection = psycopg.connect(**db_info)\n",
    "cursor = connection.cursor()\n",
    "create_example_table_if_not_exists_query = \"\"\"\n",
    "    CREATE TABLE IF NOT EXISTS ExampleTable (\n",
    "        id SERIAL PRIMARY KEY,\n",
    "        example_text_field VARCHAR(200) UNIQUE NOT NULL\n",
    "    )\n",
    "\"\"\"\n",
    "execute_query(create_example_table_if_not_exists_query, connection, cursor)\n",
    "connection.close()\n",
    "cursor.close()"
   ]
  }
 ],
 "metadata": {
  "language_info": {
   "name": "python"
  }
 },
 "nbformat": 4,
 "nbformat_minor": 2
}
