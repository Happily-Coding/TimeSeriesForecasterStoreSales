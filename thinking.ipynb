{
 "cells": [
  {
   "cell_type": "markdown",
   "metadata": {},
   "source": [
    "La forma mas basica de time series forecasting es: \n",
    "- Tengo 2 variables, 1 es el tiempo, y la otra es el valor de la variable.\n",
    "- Quiero predecir el valor futuro de la variable en base al valor pasado.\n",
    "\n",
    "Para eso tengo que entrenar el modelo con: \n",
    "- Valores pasados\n",
    "- Valor futuro\n",
    "\n",
    "Para eso creo windows a partir de mi dataset\n",
    "en vez de tener solo\n",
    "Dia Variable\n",
    "Paso a tener\n",
    "Dia Variable -2 Variable -1  Variable \n",
    "\n",
    "\n",
    "\n",
    "\n",
    "Tengo los valores de una sola variable, y quiero predecir su valor futuro.\n",
    "\n",
    "Para entrenar el modelo creo un dataset con windows, del tamanio que quiero poder predicr posiblemente, o tal vez menos grande pero prediciendo en base a mis prediccioens\n",
    "\n",
    "Tengo un dataset que se va a ver asi\n",
    "valor 1,\n",
    "valor 2\n",
    "valor 3\n",
    "valor 4.\n",
    "\n",
    "y un dataset"
   ]
  }
 ],
 "metadata": {
  "language_info": {
   "name": "python"
  }
 },
 "nbformat": 4,
 "nbformat_minor": 2
}
